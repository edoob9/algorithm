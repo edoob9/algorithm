{
  "nbformat": 4,
  "nbformat_minor": 0,
  "metadata": {
    "colab": {
      "provenance": [],
      "mount_file_id": "1H9O51aqvlNpAEa9-ggqkgYsXE5FXdqgY",
      "authorship_tag": "ABX9TyPZDpACuQhWaJJEfc5B0Qya",
      "include_colab_link": true
    },
    "kernelspec": {
      "name": "python3",
      "display_name": "Python 3"
    },
    "language_info": {
      "name": "python"
    }
  },
  "cells": [
    {
      "cell_type": "markdown",
      "metadata": {
        "id": "view-in-github",
        "colab_type": "text"
      },
      "source": [
        "<a href=\"https://colab.research.google.com/github/edoob9/algorithm/blob/main/week5_siwoo.ipynb\" target=\"_parent\"><img src=\"https://colab.research.google.com/assets/colab-badge.svg\" alt=\"Open In Colab\"/></a>"
      ]
    },
    {
      "cell_type": "markdown",
      "source": [
        "# 문제\n",
        "\n",
        "나는 새로 개편된 도시계획 및 기획부서의 담당자로 배정받았다. 오늘 아침 서울시장에 의해 강남구 서초1동 도시의 주택 지역에 주택과 병원이 위치할 수 있게 설계해달라는 공문이 내려왔다.이때 공문의 내용에는 추가로 주택과 경기도로 가는버스 정류장 사이의 최소 거리를 최소화할 수 있게 설계하라는 내용이 포함되어있었다.\n",
        "\n",
        "( 단, 각 지역의 높이와 너비는 일정하다는 가정을 한다. 그리고 각 지역의 높이는 주어진다.)\n",
        "\n",
        "기술 자문을 불러서 해당 문서에 대해서 설계하기 위한 조건들을 나열하라고 지시했다. 그 결과 문제의 조건은 다음과 같다.\n",
        "\n",
        "1. 도시의 지도는 높이(height)와 너비(width)가 주어진 2차원 공간으로 표현됩니다.\n",
        "2. 주택(house)은 이미 설정되어 있으며, 지도 내의 임의의 위치에 배치될 수 있습니다.\n",
        "3. 병원(hospital)은 주택과 겹치지 않는 공간에 설치되어야 합니다.\n",
        "4. 주택과 병원 사이의 거리는 맨해튼 거리로 측정됩니다.\n",
        "5. 병원의 개수(num_hospitals)는 주어진 값으로 고정되어 있습니다.\n",
        "6. 주택과 병원 사이의 최소 거리를 최소화하는 것이 목표입니다.\n",
        "\n",
        "* fitness에 대한 내용 추가해야한다고 피드백을 받았음\n",
        "\n",
        "## 결과\n",
        "- cost\n",
        "배치도 사진에 cost를 넣어서 한 눈에 볼 수 있게 제작해주세요."
      ],
      "metadata": {
        "id": "g6AbK5P7aC9c"
      }
    },
    {
      "cell_type": "markdown",
      "source": [],
      "metadata": {
        "id": "PlqQ50gAaWiE"
      }
    },
    {
      "cell_type": "markdown",
      "source": [
        "### Reference\n",
        "\n",
        "https://koreascience.kr/article/JAKO201710757619215.pdf"
      ],
      "metadata": {
        "id": "38edlaiAaII-"
      }
    },
    {
      "cell_type": "code",
      "source": [
        "import random\n",
        "\n",
        "class Space:\n",
        "    def __init__(self, height, width, num_hospitals):\n",
        "        self.height = height\n",
        "        self.width = width\n",
        "        self.num_hospitals = num_hospitals\n",
        "        self.houses = set()\n",
        "        self.hospitals = set()\n",
        "\n",
        "    def add_house(self, row, col):\n",
        "        self.houses.add((row, col))\n",
        "\n",
        "    def available_space(self):\n",
        "        candidates = set(\n",
        "            (row, col)\n",
        "            for row in range(self.height)\n",
        "            for col in range(self.width)\n",
        "        )\n",
        "        for house in self.houses:\n",
        "            candidates.remove(house)\n",
        "        for hospital in self.hospitals:\n",
        "            candidates.remove(hospital)\n",
        "        return candidates\n",
        "\n",
        "    def get_cost(self, hospitals):\n",
        "        cost = 0\n",
        "        for house in self.houses:\n",
        "            cost += min(\n",
        "                abs(house[0] - hospital[0]) + abs(house[1] - hospital[1])\n",
        "                for hospital in hospitals\n",
        "            )\n",
        "        return cost\n",
        "\n",
        "    def get_neighbors(self, row, col):\n",
        "        candidates = [\n",
        "            (row - 1, col),\n",
        "            (row + 1, col),\n",
        "            (row, col - 1),\n",
        "            (row, col + 1)\n",
        "        ]\n",
        "        neighbors = []\n",
        "        for r,c in candidates:\n",
        "            if (r, c) in self.houses or (r, c) in self.hospitals:\n",
        "                continue\n",
        "            if 0 <= r < self.height and 0 <= c < self.width:\n",
        "                neighbors.append((r, c))\n",
        "        return neighbors\n",
        "\n",
        "    def output_image(self, filename):\n",
        "        from PIL import Image, ImageDraw, ImageFont\n",
        "        cell_size = 100\n",
        "        cell_border = 2\n",
        "        cost_size = 40\n",
        "        padding = 10\n",
        "\n",
        "        img = Image.new(\"RGBA\",\n",
        "                        (self.width * cell_size, self.height * cell_size + cost_size + padding * 2),\n",
        "                        \"white\"\n",
        "                        )\n",
        "\n",
        "        house = Image.open(\"/content/images/House.png\").resize((cell_size, cell_size))\n",
        "        hospital = Image.open(\"/content/images/Hospital.png\").resize((cell_size, cell_size))\n",
        "        draw = ImageDraw.Draw(img)\n",
        "\n",
        "        for i in range(self.height):\n",
        "            for j in range(self.width):\n",
        "                rect = [\n",
        "                    (j * cell_size + cell_border, i * cell_size + cell_border),\n",
        "                    ((j + 1) * cell_size - cell_border, (i + 1) * cell_size - cell_border)\n",
        "                ]\n",
        "                draw.rectangle(rect, fill=\"black\")\n",
        "\n",
        "                if (i, j) in self.houses:\n",
        "                    img.paste(house, rect[0], house)\n",
        "                if (i, j) in self.hospitals:\n",
        "                    img.paste(hospital, rect[0], hospital)\n",
        "\n",
        "        draw.rectangle(\n",
        "            (0, self.height * cell_size, self.width * cell_size,\n",
        "             self.height * cell_size + cost_size + padding * 2),\n",
        "            \"black\"\n",
        "        )\n",
        "\n",
        "        draw.text(\n",
        "            (padding, self.height * cell_size + padding),\n",
        "            f\"Cost: {self.get_cost(self.hospitals)}\",\n",
        "            fill=\"white\"\n",
        "        )\n",
        "\n",
        "        img.save(filename)\n",
        "\n",
        "    def genetic_algorithm(self, population_size=100, generations=100, mutation_rate=0.1, image_prefix=None, log=False):\n",
        "    # Initialize population\n",
        "        population = self.initialize_population(population_size)\n",
        "\n",
        "        for gen in range(generations):\n",
        "            # Evaluate fitness\n",
        "            fitness_scores = [(individual, self.get_cost(individual)) for individual in population]\n",
        "\n",
        "            # Select parents\n",
        "            parents = self.selection(fitness_scores, population_size)\n",
        "\n",
        "            # Crossover\n",
        "            offspring = self.crossover(parents)\n",
        "\n",
        "            # Mutation\n",
        "            offspring = [self.mutation(child, mutation_rate) for child in offspring]\n",
        "\n",
        "            # Replace old population with offspring\n",
        "            population = offspring\n",
        "\n",
        "            # Find best individual in the population\n",
        "            best_individual = min(fitness_scores, key=lambda x: x[1])[0]\n",
        "            self.hospitals = set(best_individual)\n",
        "\n",
        "            if log:\n",
        "                print(f\"Generation {gen + 1}, Best cost: {self.get_cost(best_individual)}\")\n",
        "\n",
        "            if image_prefix:\n",
        "                self.output_image(f\"{image_prefix}{str(gen + 1).zfill(3)}.png\")\n",
        "\n",
        "        return self.hospitals\n",
        "\n",
        "    def initialize_population(self, population_size):\n",
        "        population = []\n",
        "        for _ in range(population_size):\n",
        "            individual = set()\n",
        "            for _ in range(self.num_hospitals):\n",
        "                individual.add(random.choice(list(self.available_space())))\n",
        "            population.append(individual)\n",
        "        return population\n",
        "\n",
        "    def selection(self, fitness_scores, population_size):\n",
        "        # Tournament selection\n",
        "        parents = []\n",
        "        while len(parents) < population_size:\n",
        "            tournament = random.sample(fitness_scores, k=5)\n",
        "            winner = min(tournament, key=lambda x: x[1])[0]\n",
        "            parents.append(winner)\n",
        "        return parents\n",
        "\n",
        "\n",
        "    def crossover(self, parents):\n",
        "        # Single-point crossover\n",
        "        offspring = []\n",
        "        while len(offspring) < len(parents):\n",
        "            parent1, parent2 = random.sample(parents, k=2)\n",
        "            parent1_list = list(parent1)\n",
        "            parent2_list = list(parent2)\n",
        "            crossover_point = random.randint(1, self.num_hospitals - 1)\n",
        "            child = set(parent1_list[:crossover_point] + parent2_list[crossover_point:])\n",
        "            offspring.append(child)\n",
        "        return offspring\n",
        "\n",
        "    def mutation(self, individual, mutation_rate):\n",
        "    # Flip mutation\n",
        "        if random.random() < mutation_rate:\n",
        "            mutated_gene = random.choice(list(self.available_space()))\n",
        "            # 중복을 방지하기 위해 유전자가 개체에 없는 경우에만 추가합니다.\n",
        "            if mutated_gene not in individual:\n",
        "                individual.remove(random.choice(list(individual)))\n",
        "                individual.add(mutated_gene)\n",
        "        return individual\n",
        "\n",
        "# Usage\n",
        "s = Space(height=6, width=12, num_hospitals=3)\n",
        "for i in range(5):\n",
        "    s.add_house(random.randrange(s.height), random.randrange(s.width))\n",
        "\n",
        "hospitals = s.genetic_algorithm(generations=10, image_prefix=\"hospitals\", log=True)\n",
        "\n",
        "\n"
      ],
      "metadata": {
        "colab": {
          "base_uri": "https://localhost:8080/"
        },
        "id": "KP_JE7QIZPeI",
        "outputId": "75c5bdc9-ed80-4b85-afad-fba2d2c15f6e"
      },
      "execution_count": 3,
      "outputs": [
        {
          "output_type": "stream",
          "name": "stdout",
          "text": [
            "Generation 1, Best cost: 7\n",
            "Generation 2, Best cost: 7\n",
            "Generation 3, Best cost: 5\n",
            "Generation 4, Best cost: 5\n",
            "Generation 5, Best cost: 5\n",
            "Generation 6, Best cost: 5\n",
            "Generation 7, Best cost: 5\n",
            "Generation 8, Best cost: 5\n",
            "Generation 9, Best cost: 5\n",
            "Generation 10, Best cost: 5\n"
          ]
        }
      ]
    },
    {
      "cell_type": "code",
      "source": [
        "s = Space(height=6, width=12, num_hospitals=3)\n",
        "for i in range(5):\n",
        "    s.add_house(random.randrange(s.height), random.randrange(s.width))\n",
        "\n",
        "hospitals = s.genetic_algorithm(generations=10, image_prefix=\"hospitals\", log=True)"
      ],
      "metadata": {
        "colab": {
          "base_uri": "https://localhost:8080/"
        },
        "id": "r5z5A393ZD9s",
        "outputId": "93e01781-dd70-43e6-9001-0066b84591d0"
      },
      "execution_count": 4,
      "outputs": [
        {
          "output_type": "stream",
          "name": "stdout",
          "text": [
            "Generation 1, Best cost: 8\n",
            "Generation 2, Best cost: 8\n",
            "Generation 3, Best cost: 8\n",
            "Generation 4, Best cost: 8\n",
            "Generation 5, Best cost: 7\n",
            "Generation 6, Best cost: 7\n",
            "Generation 7, Best cost: 7\n",
            "Generation 8, Best cost: 7\n",
            "Generation 9, Best cost: 7\n",
            "Generation 10, Best cost: 7\n"
          ]
        }
      ]
    },
    {
      "cell_type": "code",
      "source": [],
      "metadata": {
        "id": "k96770CvaGzl"
      },
      "execution_count": null,
      "outputs": []
    }
  ]
}